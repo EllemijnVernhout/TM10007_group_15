{
 "cells": [
  {
   "cell_type": "markdown",
   "metadata": {
    "colab_type": "text",
    "id": "7SXpaKwwGe5x"
   },
   "source": [
    "# TM10007 Assignment template -- ECG data"
   ]
  },
  {
   "cell_type": "markdown",
   "metadata": {},
   "source": [
    "## Data loading and cleaning\n",
    "\n",
    "Below are functions to load the dataset of your choice. After that, it is all up to you to create and evaluate a classification method. Beware, there may be missing values in these datasets. Good luck!"
   ]
  },
  {
   "attachments": {},
   "cell_type": "markdown",
   "metadata": {},
   "source": [
    "Importing modules"
   ]
  },
  {
   "cell_type": "code",
   "execution_count": 200,
   "metadata": {},
   "outputs": [],
   "source": [
    "import os\n",
    "import zipfile\n",
    "import pandas as pd\n",
    "import numpy as np \n",
    "import matplotlib.pyplot as plt\n",
    "from sklearn import datasets as ds\n",
    "import seaborn\n",
    "import math\n",
    "import statistics\n",
    "import math\n",
    "import matplotlib.pyplot as plt\n",
    "from sklearn import datasets as ds\n",
    "import seaborn\n",
    "\n",
    "import numpy as np\n",
    "from scipy.stats import shapiro \n",
    "from scipy.stats import lognorm\n",
    "from scipy.spatial.distance import cdist\n",
    "\n",
    "\n",
    "# Classifiers\n",
    "from sklearn import model_selection\n",
    "from sklearn import metrics\n",
    "from sklearn import feature_selection \n",
    "from sklearn import preprocessing\n",
    "from sklearn import neighbors\n",
    "from sklearn import svm\n",
    "from sklearn.feature_selection import VarianceThreshold\n",
    "from sklearn.feature_selection import SelectKBest\n",
    "from sklearn.feature_selection import f_classif\n",
    "from sklearn.decomposition import PCA\n",
    "from sklearn.svm import SVC\n",
    "from sklearn.neighbors import KNeighborsClassifier\n",
    "from sklearn.ensemble import RandomForestClassifier\n",
    "\n",
    "\n",
    "cwd = os.getcwd() # This fn will return the Current Working Directory\n",
    "\n",
    "zip_path = os.path.join(cwd, 'ecg', 'ecg_data.zip')\n",
    "with zipfile.ZipFile(zip_path, 'r') as zip_ref:\n",
    "    zip_ref.extractall(os.path.join(cwd, 'ecg'))\n",
    "\n",
    "data_path = os.path.join(cwd, 'ecg', 'ecg_data.csv')\n",
    "data = pd.read_csv(data_path, index_col=0)"
   ]
  },
  {
   "attachments": {},
   "cell_type": "markdown",
   "metadata": {},
   "source": [
    "Exploring data part 1\n",
    "- How many people have a normal ECG?\n",
    "- How many people have an abnormal ECG?"
   ]
  },
  {
   "cell_type": "code",
   "execution_count": 201,
   "metadata": {},
   "outputs": [],
   "source": [
    "# split labels from data\n",
    "x = data.loc[:, data.columns != 'label']  #alles behalve label\n",
    "y = data['label']  # labels\n",
    "\n",
    "# normal / abnormal ECGs\n",
    "total_abnormal_ECG = np.count_nonzero(y)  # current dataset has 146 nonzeros\n",
    "total_normal_ECG = y.size -np.count_nonzero(y)  # current dataset has 681 zeros\n",
    "percentage_abnormal = total_abnormal_ECG / (total_abnormal_ECG + total_normal_ECG)*100  # 17.65 %\n"
   ]
  },
  {
   "attachments": {},
   "cell_type": "markdown",
   "metadata": {},
   "source": [
    "Splitting data into training and test data\n",
    "- Subset training and test based on ratios\n",
    "- Stratification\n",
    "- Cross-validation?"
   ]
  },
  {
   "cell_type": "code",
   "execution_count": 203,
   "metadata": {},
   "outputs": [],
   "source": [
    "# Split data\n",
    "X_train, X_test_DO_NOT_FIT, y_train, y_test_DO_NOT_FIT = model_selection.train_test_split(x, y, test_size=0.25, stratify=y)\n",
    "y_train_ab = y_train==1  # waarom maken we hier bools van? ipv 1 en 0 hebben we nu true en false\n",
    "# X_test_DO_NOT_FIT and y_test_DO_NOT_FIT SHOULD NOT BE USED FOR FITTING!!\n",
    "\n",
    "# Scale the data to be normal\n",
    "scaler = preprocessing.RobustScaler()\n",
    "scaler.fit(X_train)\n",
    "X_train = scaler.transform(X_train)\n",
    "X_test_scaled_DO_NOT_FIT = scaler.transform(X_test_DO_NOT_FIT)\n",
    "\n",
    "X_train=pd.DataFrame(X_train)\n",
    "X_test_scaled_DO_NOT_FIT = pd.DataFrame(X_test_scaled_DO_NOT_FIT)\n",
    "\n",
    "# Cross-validation\n",
    "# cv_20fold = model_selection.StratifiedKFold(n_splits=10) --> uit college 1.2_generalization.ipyb\n",
    "\n",
    "# Loop over the folds\n",
    "#for validation_index, test_index in cv_20fold.split(X2, y2):\n",
    "    # Split the data properly\n",
    "#    X_validation = X2[validation_index]\n",
    "#    y_validation = y2[validation_index]\n",
    "    \n",
    "#    X_test = X2[test_index]\n",
    "#    y_test = y2[test_index]\n"
   ]
  },
  {
   "attachments": {},
   "cell_type": "markdown",
   "metadata": {},
   "source": [
    "Missing data\n",
    "- Removing features if there is lot of data missing (replace all for a value)\n",
    "- Removing samples (in this case patients) if there is a lot of data missing\n",
    "- Imputation for generating data to fill us missing values -> median"
   ]
  },
  {
   "cell_type": "code",
   "execution_count": null,
   "metadata": {},
   "outputs": [],
   "source": [
    "# Missing data\n",
    "X_train = X_train.replace(0, np.nan)  # make all zeros to NaN\n",
    "nan_count = X_train.isna().sum().sum()  # count missing data -> 10500 in our dataset\n",
    "\n",
    "# Delete missing data when > --% of feature of sample is missing\n",
    "X_train = X_train.dropna(axis='columns', how='all') # deletes a feature if all values of a column (so feature) are empty\n",
    "X_train = X_train.dropna(axis='rows', how='all') # deletes a patient if all values of a row (so sample) are empty\n",
    "\n",
    "# Missing data to median per feature\n",
    "for column in X_train.columns:\n",
    "    X_train[column].fillna(X_train[column].median(), inplace=True)"
   ]
  },
  {
   "attachments": {},
   "cell_type": "markdown",
   "metadata": {},
   "source": [
    "Exploring data part 2\n",
    "- Is the data normally distributed?"
   ]
  },
  {
   "cell_type": "code",
   "execution_count": 213,
   "metadata": {},
   "outputs": [
    {
     "ename": "AttributeError",
     "evalue": "'numpy.ndarray' object has no attribute 'columns'",
     "output_type": "error",
     "traceback": [
      "\u001b[1;31m---------------------------------------------------------------------------\u001b[0m",
      "\u001b[1;31mAttributeError\u001b[0m                            Traceback (most recent call last)",
      "Cell \u001b[1;32mIn[213], line 4\u001b[0m\n\u001b[0;32m      2\u001b[0m stat \u001b[39m=\u001b[39m []\n\u001b[0;32m      3\u001b[0m p \u001b[39m=\u001b[39m []\n\u001b[1;32m----> 4\u001b[0m \u001b[39mfor\u001b[39;00m col \u001b[39min\u001b[39;00m X_train\u001b[39m.\u001b[39;49mcolumns:\n\u001b[0;32m      5\u001b[0m     \u001b[39mif\u001b[39;00m X_train[col]\u001b[39m.\u001b[39mdtype \u001b[39m==\u001b[39m \u001b[39m'\u001b[39m\u001b[39mfloat64\u001b[39m\u001b[39m'\u001b[39m \u001b[39mor\u001b[39;00m X_train[col]\u001b[39m.\u001b[39mdtype \u001b[39m==\u001b[39m \u001b[39m'\u001b[39m\u001b[39mint64\u001b[39m\u001b[39m'\u001b[39m:\n\u001b[0;32m      6\u001b[0m         s, pv \u001b[39m=\u001b[39m shapiro(X_train[col])\n",
      "\u001b[1;31mAttributeError\u001b[0m: 'numpy.ndarray' object has no attribute 'columns'"
     ]
    }
   ],
   "source": [
    "# Normally distributed\n",
    "stat = []\n",
    "p = []\n",
    "for col in X_train.columns:\n",
    "    if X_train[col].dtype == 'float64' or X_train[col].dtype == 'int64':\n",
    "        s, pv = shapiro(X_train[col])\n",
    "        stat.append(s)\n",
    "        p.append(pv)\n",
    "    else:\n",
    "        stat.append(None)\n",
    "        p.append(None)"
   ]
  },
  {
   "attachments": {},
   "cell_type": "markdown",
   "metadata": {},
   "source": [
    "Outliers\n",
    "- Detect outliers using Z-score since data is not nornally distributed\n",
    "- Replace outliers by the median of that feature\n",
    "- Print -> check wether the outliers are changed"
   ]
  },
  {
   "cell_type": "code",
   "execution_count": null,
   "metadata": {},
   "outputs": [],
   "source": [
    "# create a new dataframe to store the results\n",
    "results = pd.DataFrame({'Column': X_train.columns, 'W': stat, 'p-value': p}) \n",
    "mean_p_value = results['p-value'].mean()  # p-value is really small. If p-value is bigger than 0.05, then data is normally distributed. SO its not\n",
    "median_p_value = results['p-value'].median()  # p-value is really small. If p-value is bigger than 0.05, then data is normally distributed. SO its not\n",
    "\n",
    "# Outliers: Tukey's fence \n",
    "k=3\n",
    "fences=pd.DataFrame()\n",
    "outliers = pd.DataFrame(False, index=X_train.index, columns=X_train.columns) # create an empty DataFrame for outliers\n",
    "\n",
    "for col in X_train.columns:\n",
    "    q1, q3 = np.percentile(X_train[col], [25, 75])\n",
    "    iqr = q3 - q1\n",
    "    lower_fence = q1 - k*iqr\n",
    "    upper_fence = q3 + k*iqr\n",
    "    fences[col]=[lower_fence, upper_fence]\n",
    "    for row in X_train.index:\n",
    "        if X_train.loc[row, col] < lower_fence or X_train.loc[row, col] > upper_fence:\n",
    "            outliers.loc[row, col] = True # mark the place as an outlier\n",
    "\n",
    "row_count = (outliers == True).sum(axis=1)\n",
    "col_count = (outliers == True).sum(axis=0)\n",
    "total_count = row_count.sum() + col_count.sum()\n",
    "print(f'The total outliers in dataset x is {total_count}')"
   ]
  },
  {
   "cell_type": "code",
   "execution_count": null,
   "metadata": {},
   "outputs": [],
   "source": [
    "# create a copy of x to modify\n",
    "new_x = X_train.copy()\n",
    "\n",
    "# replace outliers with median of x by column\n",
    "for col in outliers.columns:\n",
    "    median = X_train.loc[outliers[col] == False, col].median() # median of column where outlier is False\n",
    "    new_x.loc[outliers[col], col] = median # replace outliers with median"
   ]
  },
  {
   "cell_type": "code",
   "execution_count": null,
   "metadata": {},
   "outputs": [],
   "source": [
    "# Check wether there are still outliers or not\n",
    "k=3\n",
    "fences=pd.DataFrame()\n",
    "outliers = pd.DataFrame(False, index=X_train.index, columns=X_train.columns) # create an empty DataFrame for outliers\n",
    "\n",
    "for col in new_x.columns:\n",
    "    q1, q3 = np.percentile(X_train[col], [25, 75])\n",
    "    iqr = q3 - q1\n",
    "    lower_fence = q1 - k*iqr\n",
    "    upper_fence = q3 + k*iqr\n",
    "    fences[col]=[lower_fence, upper_fence]\n",
    "    for row in new_x.index:\n",
    "        if new_x.loc[row, col] < lower_fence or new_x.loc[row, col] > upper_fence:\n",
    "            outliers.loc[row, col] = True # mark the place as an outlier\n",
    "\n",
    "row_count = (outliers == True).sum(axis=1)\n",
    "col_count = (outliers == True).sum(axis=0)\n",
    "total_count = row_count.sum() + col_count.sum()\n",
    "\n",
    "print(f'total outliers of the filtered x is {total_count}')"
   ]
  },
  {
   "cell_type": "code",
   "execution_count": null,
   "metadata": {},
   "outputs": [],
   "source": [
    "#change the x_train to the new_x\n",
    "X_train = new_x"
   ]
  },
  {
   "attachments": {},
   "cell_type": "markdown",
   "metadata": {},
   "source": [
    "Feature selection:\n",
    "- Remove features with zero variance"
   ]
  },
  {
   "cell_type": "code",
   "execution_count": 204,
   "metadata": {},
   "outputs": [
    {
     "name": "stdout",
     "output_type": "stream",
     "text": [
      "(620, 9000)\n"
     ]
    }
   ],
   "source": [
    "sel_vt = VarianceThreshold(threshold=0.0)\n",
    "X_vt = sel_vt.fit_transform(X_train, y_train)\n",
    "print(X_vt.shape)"
   ]
  },
  {
   "attachments": {},
   "cell_type": "markdown",
   "metadata": {},
   "source": [
    "PCA\n",
    "- How many principal components? (n=2/3) --> to make plots visual\n",
    "- Scree plot to determine amount of features to use?\n"
   ]
  },
  {
   "cell_type": "code",
   "execution_count": 205,
   "metadata": {},
   "outputs": [
    {
     "name": "stdout",
     "output_type": "stream",
     "text": [
      "620\n",
      "620\n",
      "620\n"
     ]
    }
   ],
   "source": [
    "# Reduce the number of features with PCA.\n",
    "n_samples = X_train.shape[0]\n",
    "n_features = X_train.shape[1]\n",
    "n_features = min(n_samples, n_features)\n",
    "\n",
    "pca = PCA(n_components=n_features)            \n",
    "X_train = pca.fit_transform(X_train)\n",
    "\n",
    "print(n_samples)\n",
    "print(n_features)\n",
    "print(pca.n_components_)"
   ]
  },
  {
   "attachments": {},
   "cell_type": "markdown",
   "metadata": {},
   "source": [
    "- Univariate"
   ]
  },
  {
   "cell_type": "code",
   "execution_count": 206,
   "metadata": {},
   "outputs": [
    {
     "data": {
      "image/png": "[encoded data removed]",
      "text/plain": [
       "<Figure size 640x480 with 1 Axes>"
      ]
     },
     "metadata": {},
     "output_type": "display_data"
    }
   ],
   "source": [
    "# selectKbest features \n",
    "sel_kb = SelectKBest(f_classif, k='all')        # we trainen selector wel met 620 best en daarna pakken we pas de p_waarden --> kan dat wel?\n",
    "sel_kb.fit(X_train, y_train)                         # is het dan, omdat we alleen 'fit' doen en niet 'fit_transform' dat de k niet uitmaakt, omdat we X_train niet transformen, maar de 'empirical variances of X' nemen\n",
    "p_values = sel_kb.pvalues_\n",
    "\n",
    "# plot p-values of all features\n",
    "X_indices = np.arange(X_train.shape[-1])\n",
    "plt.figure(1)\n",
    "plt.clf()\n",
    "plt.bar(X_indices - 0.05, p_values, width=1)\n",
    "plt.axhline(y=0.05, color='r', linestyle='-')\n",
    "plt.title(\"Feature univariate score\")\n",
    "plt.xlabel(\"Feature number\")\n",
    "plt.ylabel('p_values of all features')\n",
    "plt.show()\n"
   ]
  },
  {
   "cell_type": "code",
   "execution_count": 207,
   "metadata": {},
   "outputs": [
    {
     "name": "stdout",
     "output_type": "stream",
     "text": [
      "(1, 28)\n",
      "(620, 28)\n"
     ]
    }
   ],
   "source": [
    "# select features with p_value =< 0.05\n",
    "features_selected = np.array(np.where(p_values <= 0.05))\n",
    "print(features_selected.shape)\n",
    "\n",
    "# select significant features in training set\n",
    "X_train = X_train[:,features_selected[0,:]]\n",
    "print(X_train.shape)"
   ]
  },
  {
   "attachments": {},
   "cell_type": "markdown",
   "metadata": {},
   "source": [
    "Function to make 2D-colorplot"
   ]
  },
  {
   "cell_type": "code",
   "execution_count": 208,
   "metadata": {},
   "outputs": [],
   "source": [
    "# def colorplot(clf, ax, x, y, h=100, precomputer=None):\n",
    "#     '''\n",
    "#     Overlay the decision areas as colors in an axes.\n",
    "    \n",
    "#     Input:\n",
    "#         clf: trained classifier\n",
    "#         ax: axis to overlay color mesh on\n",
    "#         x: feature on x-axis\n",
    "#         y: feature on y-axis\n",
    "#         h(optional): steps in the mesh\n",
    "#     '''\n",
    "#     # Create a meshgrid the size of the axis\n",
    "#     xstep = (x.max() - x.min() ) / 20.0\n",
    "#     ystep = (y.max() - y.min() ) / 20.0\n",
    "#     x_min, x_max = x.min() - xstep, x.max() + xstep\n",
    "#     y_min, y_max = y.min() - ystep, y.max() + ystep\n",
    "#     h = max((x_max - x_min, y_max - y_min))/h\n",
    "#     xx, yy = np.meshgrid(np.arange(x_min, x_max, h),\n",
    "#                          np.arange(y_min, y_max, h))\n",
    "\n",
    "#     features = np.c_[xx.ravel(), yy.ravel()]\n",
    "#     if precomputer is not None:\n",
    "#         if type(precomputer) is RBFSampler:\n",
    "#             features = precomputer.transform(features)\n",
    "#         elif precomputer is rbf_kernel:\n",
    "#             features = rbf_kernel(features, X)\n",
    "            \n",
    "#     # Plot the decision boundary. For that, we will assign a color to each\n",
    "#     # point in the mesh [x_min, x_max]x[y_min, y_max].\n",
    "#     if hasattr(clf, \"decision_function\"):\n",
    "#         Z = clf.decision_function(features)\n",
    "#     else:\n",
    "#         Z = clf.predict_proba(features)\n",
    "#     if len(Z.shape) > 1:\n",
    "#         Z = Z[:, 1]"
   ]
  },
  {
   "attachments": {},
   "cell_type": "markdown",
   "metadata": {},
   "source": [
    "Trying out some basic classifiers"
   ]
  },
  {
   "cell_type": "code",
   "execution_count": 209,
   "metadata": {},
   "outputs": [],
   "source": [
    "from sklearn.naive_bayes import GaussianNB\n",
    "from sklearn.discriminant_analysis import LinearDiscriminantAnalysis\n",
    "from sklearn.discriminant_analysis import QuadraticDiscriminantAnalysis\n",
    "from sklearn.linear_model import LogisticRegression\n",
    "from sklearn.linear_model import SGDClassifier\n",
    "from sklearn.tree import DecisionTreeClassifier\n",
    "from sklearn.neighbors import KNeighborsClassifier"
   ]
  },
  {
   "cell_type": "code",
   "execution_count": 210,
   "metadata": {},
   "outputs": [
    {
     "name": "stdout",
     "output_type": "stream",
     "text": [
      "Number of mislabeled points out of a total 620 points : 66\n",
      "<class 'sklearn.discriminant_analysis.LinearDiscriminantAnalysis'>\n",
      "Acc:0.8935483870967742\n",
      "AUC:0.8896569058690461\n",
      "F1:0.6162790697674418\n",
      "precision:0.8412698412698413\n",
      "recall:0.48623853211009177\n"
     ]
    }
   ],
   "source": [
    "# fig = plt.figure(figsize=(8, 8))\n",
    "# ax = fig.add_subplot(111)\n",
    "# ax.set_title(\"Two informative features, one cluster per class\",\n",
    "#              fontsize='small')\n",
    "# ax.scatter(X_train[:, 0], X_train[:, 1], marker='o', c=y_train,\n",
    "#            s=25, edgecolor='k', cmap=plt.cm.Paired)\n",
    "clf = LinearDiscriminantAnalysis()\n",
    "clf = clf.fit(X_train, y_train)\n",
    "y_pred = clf.predict(X_train)\n",
    "# colorplot(clf, ax, X_train[:, 0], X_train[:, 1])\n",
    "print(\"Number of mislabeled points out of a total %d points : %d\" % (X_train.shape[0], (y_train != y_pred).sum()))\n",
    "\n",
    "\n",
    "y_pred=clf.predict(X_train)\n",
    "\n",
    "if hasattr(clf, 'predict_proba'):\n",
    "    # The first column gives the probability for class = 0, so we take\n",
    "    # the second which gives the probability class = 1:\n",
    "    y_score = clf.predict_proba(X_train)[:, 1]\n",
    "else:\n",
    "     y_score = y_pred\n",
    "\n",
    "auc = metrics.roc_auc_score(y_train, y_score)\n",
    "accuracy=metrics.accuracy_score(y_train, y_pred)\n",
    "F1=metrics.f1_score(y_train, y_pred)\n",
    "precision=metrics.precision_score(y_train, y_pred)\n",
    "recall=metrics.recall_score(y_train, y_pred)\n",
    "# accuracy, AUC, f1score, precision, recall\n",
    "print(type(clf))\n",
    "print('Acc:' +str(accuracy))\n",
    "print('AUC:' +str(auc))\n",
    "print('F1:' +str(F1))\n",
    "print('precision:' +str(precision))\n",
    "print('recall:' +str(recall))\n"
   ]
  },
  {
   "attachments": {},
   "cell_type": "markdown",
   "metadata": {},
   "source": [
    "K-Neirest Neighbour classifier"
   ]
  },
  {
   "cell_type": "code",
   "execution_count": 211,
   "metadata": {},
   "outputs": [
    {
     "name": "stdout",
     "output_type": "stream",
     "text": [
      "0.8564516129032258\n"
     ]
    }
   ],
   "source": [
    "k_list = [1, 3, 7]\n",
    "from sklearn import neighbors\n",
    "\n",
    "for k in k_list:\n",
    "    clf_knn = neighbors.KNeighborsClassifier(n_neighbors=k)\n",
    "    clf_knn.fit(X_train, y_train)\n",
    "\n",
    "    # Test the classifier on the training data and plot\n",
    "    score_train = clf_knn.score(X_train, y_train)\n",
    "\n",
    "    # Test the classifier on the test data and plot\n",
    "    # score_test = clf_knn.score(X_test_scaled_DO_NOT_FIT,y_test_DO_NOT_FIT)\n",
    "\n",
    "# print(f'test score os {score_test}')\n",
    "print(score_train)"
   ]
  },
  {
   "attachments": {},
   "cell_type": "markdown",
   "metadata": {},
   "source": [
    "*Support Vector Machines* \n",
    "Altough Support Vector Machines are quite intuitive and easy to use, they have quite a lot of hyperparameters. One general and highly important parameter is the slack C, which defaults to 1.0 in scikit learn. The SVM in scikit-learn contains defaults for the linear, polynomial and radial basis function kernels, and has options for their specific hyperparameters. However, SVMs also accept manually constructed and precomputed kernels.\n",
    "\n",
    "*KNeighbours Classifiers*\n",
    "*Random forest*\n",
    "*Kernels*"
   ]
  },
  {
   "cell_type": "code",
   "execution_count": 212,
   "metadata": {},
   "outputs": [
    {
     "name": "stderr",
     "output_type": "stream",
     "text": [
      "c:\\Users\\ellem\\miniconda3\\lib\\site-packages\\sklearn\\base.py:402: UserWarning: X has feature names, but KNeighborsClassifier was fitted without feature names\n",
      "  warnings.warn(\n"
     ]
    },
    {
     "ename": "ValueError",
     "evalue": "X has 9000 features, but KNeighborsClassifier is expecting 28 features as input.",
     "output_type": "error",
     "traceback": [
      "\u001b[1;31m---------------------------------------------------------------------------\u001b[0m",
      "\u001b[1;31mValueError\u001b[0m                                Traceback (most recent call last)",
      "Cell \u001b[1;32mIn[212], line 12\u001b[0m\n\u001b[0;32m     10\u001b[0m \u001b[39mfor\u001b[39;00m clf \u001b[39min\u001b[39;00m clsfs:\n\u001b[0;32m     11\u001b[0m     clf\u001b[39m.\u001b[39mfit(X_train, y_train)\n\u001b[1;32m---> 12\u001b[0m     y_pred \u001b[39m=\u001b[39m clf\u001b[39m.\u001b[39;49mpredict(x)\n\u001b[0;32m     13\u001b[0m     \u001b[39mprint\u001b[39m(\u001b[39mf\u001b[39m\u001b[39m'\u001b[39m\u001b[39mMisclassified: %d / %d % \u001b[39m\u001b[39m{\u001b[39;00m((y\u001b[39m \u001b[39m\u001b[39m!=\u001b[39m\u001b[39m \u001b[39my_pred)\u001b[39m.\u001b[39msum(),\u001b[39m \u001b[39mx\u001b[39m.\u001b[39mshape[\u001b[39m0\u001b[39m])\u001b[39m}\u001b[39;00m\u001b[39m'\u001b[39m )\n",
      "File \u001b[1;32mc:\\Users\\ellem\\miniconda3\\lib\\site-packages\\sklearn\\neighbors\\_classification.py:234\u001b[0m, in \u001b[0;36mKNeighborsClassifier.predict\u001b[1;34m(self, X)\u001b[0m\n\u001b[0;32m    218\u001b[0m \u001b[39m\u001b[39m\u001b[39m\"\"\"Predict the class labels for the provided data.\u001b[39;00m\n\u001b[0;32m    219\u001b[0m \n\u001b[0;32m    220\u001b[0m \u001b[39mParameters\u001b[39;00m\n\u001b[1;32m   (...)\u001b[0m\n\u001b[0;32m    229\u001b[0m \u001b[39m    Class labels for each data sample.\u001b[39;00m\n\u001b[0;32m    230\u001b[0m \u001b[39m\"\"\"\u001b[39;00m\n\u001b[0;32m    231\u001b[0m \u001b[39mif\u001b[39;00m \u001b[39mself\u001b[39m\u001b[39m.\u001b[39mweights \u001b[39m==\u001b[39m \u001b[39m\"\u001b[39m\u001b[39muniform\u001b[39m\u001b[39m\"\u001b[39m:\n\u001b[0;32m    232\u001b[0m     \u001b[39m# In that case, we do not need the distances to perform\u001b[39;00m\n\u001b[0;32m    233\u001b[0m     \u001b[39m# the weighting so we do not compute them.\u001b[39;00m\n\u001b[1;32m--> 234\u001b[0m     neigh_ind \u001b[39m=\u001b[39m \u001b[39mself\u001b[39;49m\u001b[39m.\u001b[39;49mkneighbors(X, return_distance\u001b[39m=\u001b[39;49m\u001b[39mFalse\u001b[39;49;00m)\n\u001b[0;32m    235\u001b[0m     neigh_dist \u001b[39m=\u001b[39m \u001b[39mNone\u001b[39;00m\n\u001b[0;32m    236\u001b[0m \u001b[39melse\u001b[39;00m:\n",
      "File \u001b[1;32mc:\\Users\\ellem\\miniconda3\\lib\\site-packages\\sklearn\\neighbors\\_base.py:806\u001b[0m, in \u001b[0;36mKNeighborsMixin.kneighbors\u001b[1;34m(self, X, n_neighbors, return_distance)\u001b[0m\n\u001b[0;32m    804\u001b[0m         X \u001b[39m=\u001b[39m _check_precomputed(X)\n\u001b[0;32m    805\u001b[0m     \u001b[39melse\u001b[39;00m:\n\u001b[1;32m--> 806\u001b[0m         X \u001b[39m=\u001b[39m \u001b[39mself\u001b[39;49m\u001b[39m.\u001b[39;49m_validate_data(X, accept_sparse\u001b[39m=\u001b[39;49m\u001b[39m\"\u001b[39;49m\u001b[39mcsr\u001b[39;49m\u001b[39m\"\u001b[39;49m, reset\u001b[39m=\u001b[39;49m\u001b[39mFalse\u001b[39;49;00m, order\u001b[39m=\u001b[39;49m\u001b[39m\"\u001b[39;49m\u001b[39mC\u001b[39;49m\u001b[39m\"\u001b[39;49m)\n\u001b[0;32m    808\u001b[0m n_samples_fit \u001b[39m=\u001b[39m \u001b[39mself\u001b[39m\u001b[39m.\u001b[39mn_samples_fit_\n\u001b[0;32m    809\u001b[0m \u001b[39mif\u001b[39;00m n_neighbors \u001b[39m>\u001b[39m n_samples_fit:\n",
      "File \u001b[1;32mc:\\Users\\ellem\\miniconda3\\lib\\site-packages\\sklearn\\base.py:558\u001b[0m, in \u001b[0;36mBaseEstimator._validate_data\u001b[1;34m(self, X, y, reset, validate_separately, **check_params)\u001b[0m\n\u001b[0;32m    555\u001b[0m     out \u001b[39m=\u001b[39m X, y\n\u001b[0;32m    557\u001b[0m \u001b[39mif\u001b[39;00m \u001b[39mnot\u001b[39;00m no_val_X \u001b[39mand\u001b[39;00m check_params\u001b[39m.\u001b[39mget(\u001b[39m\"\u001b[39m\u001b[39mensure_2d\u001b[39m\u001b[39m\"\u001b[39m, \u001b[39mTrue\u001b[39;00m):\n\u001b[1;32m--> 558\u001b[0m     \u001b[39mself\u001b[39;49m\u001b[39m.\u001b[39;49m_check_n_features(X, reset\u001b[39m=\u001b[39;49mreset)\n\u001b[0;32m    560\u001b[0m \u001b[39mreturn\u001b[39;00m out\n",
      "File \u001b[1;32mc:\\Users\\ellem\\miniconda3\\lib\\site-packages\\sklearn\\base.py:359\u001b[0m, in \u001b[0;36mBaseEstimator._check_n_features\u001b[1;34m(self, X, reset)\u001b[0m\n\u001b[0;32m    356\u001b[0m     \u001b[39mreturn\u001b[39;00m\n\u001b[0;32m    358\u001b[0m \u001b[39mif\u001b[39;00m n_features \u001b[39m!=\u001b[39m \u001b[39mself\u001b[39m\u001b[39m.\u001b[39mn_features_in_:\n\u001b[1;32m--> 359\u001b[0m     \u001b[39mraise\u001b[39;00m \u001b[39mValueError\u001b[39;00m(\n\u001b[0;32m    360\u001b[0m         \u001b[39mf\u001b[39m\u001b[39m\"\u001b[39m\u001b[39mX has \u001b[39m\u001b[39m{\u001b[39;00mn_features\u001b[39m}\u001b[39;00m\u001b[39m features, but \u001b[39m\u001b[39m{\u001b[39;00m\u001b[39mself\u001b[39m\u001b[39m.\u001b[39m\u001b[39m__class__\u001b[39m\u001b[39m.\u001b[39m\u001b[39m__name__\u001b[39m\u001b[39m}\u001b[39;00m\u001b[39m \u001b[39m\u001b[39m\"\u001b[39m\n\u001b[0;32m    361\u001b[0m         \u001b[39mf\u001b[39m\u001b[39m\"\u001b[39m\u001b[39mis expecting \u001b[39m\u001b[39m{\u001b[39;00m\u001b[39mself\u001b[39m\u001b[39m.\u001b[39mn_features_in_\u001b[39m}\u001b[39;00m\u001b[39m features as input.\u001b[39m\u001b[39m\"\u001b[39m\n\u001b[0;32m    362\u001b[0m     )\n",
      "\u001b[1;31mValueError\u001b[0m: X has 9000 features, but KNeighborsClassifier is expecting 28 features as input."
     ]
    }
   ],
   "source": [
    "# Construct classifiers\n",
    "svmlin = SVC(kernel='linear', gamma='scale')\n",
    "svmrbf = SVC(kernel='rbf', gamma='scale')\n",
    "svmpoly = SVC(kernel='poly', degree=3, gamma='scale')\n",
    "\n",
    "clsfs = [KNeighborsClassifier(), RandomForestClassifier(), svmlin, svmpoly, svmrbf]\n",
    "\n",
    "\n",
    "\n",
    "for clf in clsfs:\n",
    "    clf.fit(X_train, y_train)\n",
    "    y_pred = clf.predict(x)\n",
    "    print(f'Misclassified: %d / %d % {((y != y_pred).sum(), x.shape[0])}' )"
   ]
  }
 ],
 "metadata": {
  "colab": {
   "collapsed_sections": [],
   "name": "assignment.ipynb",
   "provenance": []
  },
  "kernelspec": {
   "display_name": "base",
   "language": "python",
   "name": "python3"
  },
  "language_info": {
   "codemirror_mode": {
    "name": "ipython",
    "version": 3
   },
   "file_extension": ".py",
   "mimetype": "text/x-python",
   "name": "python",
   "nbconvert_exporter": "python",
   "pygments_lexer": "ipython3",
   "version": "3.10.9"
  },
  "vscode": {
   "interpreter": {
    "hash": "8639542d0d5c4a86b9e021f83681c733ad8933a32667505318364d619e2658a5"
   }
  }
 },
 "nbformat": 4,
 "nbformat_minor": 1
}
